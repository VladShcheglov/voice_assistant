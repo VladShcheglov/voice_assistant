{
 "cells": [
  {
   "cell_type": "code",
   "execution_count": 1,
   "metadata": {},
   "outputs": [
    {
     "name": "stdout",
     "output_type": "stream",
     "text": [
      "Скажите что-нибудь!\n"
     ]
    }
   ],
   "source": [
    "import whisper\n",
    "import speech_recognition as sr\n",
    "\n",
    "# Загрузка модели\n",
    "model = whisper.load_model(\"medium\")\n",
    "\n",
    "# Запись аудио с микрофона\n",
    "recognizer = sr.Recognizer()\n",
    "with sr.Microphone() as source:\n",
    "    print(\"Скажите что-нибудь!\")\n",
    "    audio = recognizer.listen(source)\n",
    "\n",
    "    # Сохранение аудио в файл\n",
    "    with open(\"audio.wav\", \"wb\") as f:\n",
    "        f.write(audio.get_wav_data())"
   ]
  },
  {
   "cell_type": "code",
   "execution_count": 5,
   "metadata": {},
   "outputs": [
    {
     "data": {
      "text/plain": [
       "<docx.document.Document at 0x1795617e210>"
      ]
     },
     "execution_count": 5,
     "metadata": {},
     "output_type": "execute_result"
    }
   ],
   "source": [
    "from docx import Document\n",
    "\n",
    "doc = Document()\n",
    "doc"
   ]
  },
  {
   "cell_type": "code",
   "execution_count": null,
   "metadata": {},
   "outputs": [],
   "source": [
    "import subprocess\n",
    "word_path = \"C:\\\\Program Files\\\\Microsoft Office\\\\root\\\\Office16\\\\WINWORD.EXE\"\n",
    "def open_doc(command,word_path):\n",
    "        if \"открой документ\" in command:\n",
    "            try:\n",
    "                subprocess.Popen([word_path])\n",
    "                print(\"Microsoft Word успешно запущен.\")\n",
    "            except FileNotFoundError:\n",
    "                print(\"Не удалось найти Microsoft Word по указанному пути.\")\n",
    "\n",
    "open_doc(\"Привет,открой документ\",word_path=word_path)"
   ]
  }
 ],
 "metadata": {
  "kernelspec": {
   "display_name": ".venv",
   "language": "python",
   "name": "python3"
  },
  "language_info": {
   "codemirror_mode": {
    "name": "ipython",
    "version": 3
   },
   "file_extension": ".py",
   "mimetype": "text/x-python",
   "name": "python",
   "nbconvert_exporter": "python",
   "pygments_lexer": "ipython3",
   "version": "3.11.4"
  }
 },
 "nbformat": 4,
 "nbformat_minor": 2
}
